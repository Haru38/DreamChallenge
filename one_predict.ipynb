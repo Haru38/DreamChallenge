{
 "cells": [
  {
   "cell_type": "markdown",
   "metadata": {},
   "source": [
    "# oredict olfactory\n",
    "- 49人それぞれに対して'BAKERY', 'SWEET', 'FRUIT', 'FISH', 'GARLIC','SPICES', 'COLD', 'SOUR', 'BURNT', 'ACID', 'WARM', 'MUSKY', 'SWEATY','AMMONIA/URINOUS', 'DECAYED', 'WOOD', 'GRASS', 'FLOWER', 'CHEMICAL'の19種類に対して予測を行う\n",
    "- 使用するデータは、Intensity,INTENSITY/STRENGTH,VALENCE/PLEASANTNESS,ECFP4(4096)"
   ]
  },
  {
   "cell_type": "code",
   "execution_count": 58,
   "metadata": {},
   "outputs": [],
   "source": [
    "import pickle\n",
    "import pandas as pd\n",
    "import math\n",
    "\n",
    "import pubchempy as pcp\n",
    "from rdkit.Chem import AllChem\n",
    "from rdkit import Chem\n",
    "\n",
    "from sklearn.ensemble import RandomForestClassifier\n",
    "from sklearn.model_selection import cross_val_score, cross_validate\n",
    "from sklearn.model_selection import KFold\n",
    "from sklearn.metrics import mean_squared_error,mean_absolute_error,median_absolute_error,r2_score\n",
    "from sklearn.metrics import make_scorer\n",
    "\n",
    "from sklearn.metrics import roc_curve,auc\n",
    "import matplotlib.pyplot as plt\n",
    "\n",
    "import openpyxl"
   ]
  },
  {
   "cell_type": "code",
   "execution_count": 59,
   "metadata": {},
   "outputs": [],
   "source": [
    "def rmse_score(y_true, y_pred):\n",
    "    mse = mean_squared_error(y_true, y_pred)\n",
    "    rmse = math.sqrt(mse)\n",
    "    return rmse\n",
    "\n",
    "def ROC(label_test,pred):\n",
    "    #分類問題のとき\n",
    "    #偽陽性と真陽性率の算出\n",
    "    fpr,tpr,thresholds = roc_curve(label_test,pred)\n",
    "\n",
    "    #AUCの計算\n",
    "    auc  = auc(fpr,tpr)\n",
    "\n",
    "    #ROC曲線の描画\n",
    "    plt.plot(fpr,tpr,color = 'red',label= 'ROC Curve(area=%.3f)'%auc)\n",
    "    plt.plot([0,1],[0,1],color= 'black',linestyle = '--')\n",
    "\n",
    "    plt.xlim([0.0,1.0])\n",
    "    plt.ylim([0.0,1.05])\n",
    "    plt.xlabel('False positive rate')\n",
    "    plt.ylabel('True positive rate')\n",
    "    plt.title('Reciver operating characteristic')\n",
    "    \n",
    "def str2int(s):\n",
    "    return int(s)\n",
    "\n",
    "def value2onehot(v):\n",
    "    if v == 0:\n",
    "        return 0\n",
    "    else:\n",
    "        return 1\n",
    "\n",
    "def make_data(df,person,label,compound_dic):\n",
    "    \n",
    "    #使わないcolumnを削除\n",
    "    df = df.drop('Odor', axis=1)\n",
    "    df = df.drop('Replicate', axis=1)\n",
    "    df = df.drop('Dilution', axis=1)\n",
    "\n",
    "    #被験者を絞り込む処理\n",
    "    sdf = df[df[\"subject #\"]==str(person)].reset_index()\n",
    "    sdf = sdf.drop('subject #', axis=1)\n",
    "    sdf = sdf.drop('index', axis=1)\n",
    "    sdf['Intensity'] = sdf['Intensity'].map({'low ':0,'high ':1})\n",
    "\n",
    "    #int型に変換\n",
    "    sdf['INTENSITY/STRENGTH'] = sdf['INTENSITY/STRENGTH'].apply(str2int)\n",
    "    sdf['VALENCE/PLEASANTNESS'] = sdf['VALENCE/PLEASANTNESS'].apply(str2int)\n",
    "\n",
    "    #説明変数とラベルデータを分離させる\n",
    "    X = sdf.iloc[:,0:2]\n",
    "    Ys = sdf.iloc[:,2:]\n",
    "\n",
    "    #ECFP辞書検索\n",
    "    ecfps = []\n",
    "    for index in range(len(sdf)):\n",
    "        data = sdf.loc[index]\n",
    "        cid = int(data[\"Compound Identifier\"])\n",
    "        ecfps.append(list(compound_dic[cid]))\n",
    "    \n",
    "    #featureごとに列追加\n",
    "    numOfColumn = len(ecfps[0])\n",
    "    for c in range(numOfColumn):\n",
    "        new = []\n",
    "        for i in range(len(ecfps)):\n",
    "            new.append(ecfps[i][c])\n",
    "        X['f'+str(c)] = new\n",
    "    \n",
    "    #不要columnを削除\n",
    "    X = X.drop('Compound Identifier', axis=1)\n",
    "\n",
    "    #ラベルのset#\n",
    "    Y = Ys[label]\n",
    "    Y = Y.apply(str2int)\n",
    "    #Y = Y.apply(value2onehot)\n",
    "    \n",
    "    return X,Y,Ys[label]"
   ]
  },
  {
   "cell_type": "code",
   "execution_count": 60,
   "metadata": {},
   "outputs": [],
   "source": [
    "#モデルの評価関数 \n",
    "def evaluate(clf,X,Y,k,label,make_df = 1):\n",
    "    score_funcs = {\n",
    "        'rmse': make_scorer(rmse_score),\n",
    "        'MedAE':'neg_median_absolute_error',\n",
    "        'R2':'r2',\n",
    "        'MAE':'neg_mean_absolute_error'\n",
    "    }\n",
    "    \n",
    "    kf=KFold(n_splits=k, shuffle=True, random_state=0)\n",
    "    score=cross_validate(clf, X, Y, cv = kf,\n",
    "                        scoring=score_funcs)\n",
    "                        #,return_train_score=True)\n",
    "    df = pd.DataFrame(score)\n",
    "    df.loc[label+\"_mean\"]=df.mean()\n",
    "    return df"
   ]
  },
  {
   "cell_type": "code",
   "execution_count": 61,
   "metadata": {},
   "outputs": [],
   "source": [
    "#化合物データの読み込み\n",
    "with open('data/compound_dic.pickle','rb') as f:\n",
    "    compound_dic = pickle.load(f)"
   ]
  },
  {
   "cell_type": "code",
   "execution_count": 62,
   "metadata": {},
   "outputs": [],
   "source": [
    "#trainDataの読み込み\n",
    "train_set = []\n",
    "with open('data/TrainSet.txt') as file:\n",
    "    for f in file:\n",
    "        line = f.split('\\t')\n",
    "        line[-1] = line[-1].split('\\n')[0]\n",
    "        train_set.append(line)\n",
    "        \n",
    "df = pd.DataFrame(train_set[1:],columns = train_set[0])"
   ]
  },
  {
   "cell_type": "code",
   "execution_count": 63,
   "metadata": {},
   "outputs": [
    {
     "name": "stdout",
     "output_type": "stream",
     "text": [
      "VALENCE/PLEASANTNESS\n"
     ]
    }
   ],
   "source": [
    "person = 1\n",
    "labels = list(df.iloc[:,6:].columns)\n",
    "label = labels[1]\n",
    "print(label)"
   ]
  },
  {
   "cell_type": "code",
   "execution_count": 68,
   "metadata": {},
   "outputs": [
    {
     "data": {
      "text/plain": [
       "21"
      ]
     },
     "execution_count": 68,
     "metadata": {},
     "output_type": "execute_result"
    }
   ],
   "source": [
    "len(labels)"
   ]
  },
  {
   "cell_type": "code",
   "execution_count": 69,
   "metadata": {},
   "outputs": [],
   "source": [
    "#データの作成\n",
    "X,Y,ori= make_data(df,person,label,compound_dic)\n",
    "#モデルの作成\n",
    "clf = RandomForestClassifier(n_estimators=10,max_features='auto',oob_score=False,n_jobs=1,random_state=0)"
   ]
  },
  {
   "cell_type": "code",
   "execution_count": 70,
   "metadata": {},
   "outputs": [],
   "source": [
    "#評価\n",
    "evaluate_df = evaluate(clf,X,Y,5,label)"
   ]
  },
  {
   "cell_type": "code",
   "execution_count": 71,
   "metadata": {},
   "outputs": [
    {
     "data": {
      "text/html": [
       "<div>\n",
       "<style scoped>\n",
       "    .dataframe tbody tr th:only-of-type {\n",
       "        vertical-align: middle;\n",
       "    }\n",
       "\n",
       "    .dataframe tbody tr th {\n",
       "        vertical-align: top;\n",
       "    }\n",
       "\n",
       "    .dataframe thead th {\n",
       "        text-align: right;\n",
       "    }\n",
       "</style>\n",
       "<table border=\"1\" class=\"dataframe\">\n",
       "  <thead>\n",
       "    <tr style=\"text-align: right;\">\n",
       "      <th></th>\n",
       "      <th>fit_time</th>\n",
       "      <th>score_time</th>\n",
       "      <th>test_rmse</th>\n",
       "      <th>test_MedAE</th>\n",
       "      <th>test_R2</th>\n",
       "      <th>test_MAE</th>\n",
       "    </tr>\n",
       "  </thead>\n",
       "  <tbody>\n",
       "    <tr>\n",
       "      <th>0</th>\n",
       "      <td>0.299402</td>\n",
       "      <td>0.013225</td>\n",
       "      <td>30.052269</td>\n",
       "      <td>-20.5</td>\n",
       "      <td>-0.720881</td>\n",
       "      <td>-23.333333</td>\n",
       "    </tr>\n",
       "    <tr>\n",
       "      <th>1</th>\n",
       "      <td>0.305121</td>\n",
       "      <td>0.011670</td>\n",
       "      <td>29.330525</td>\n",
       "      <td>-16.0</td>\n",
       "      <td>-0.682216</td>\n",
       "      <td>-22.013986</td>\n",
       "    </tr>\n",
       "    <tr>\n",
       "      <th>2</th>\n",
       "      <td>0.324269</td>\n",
       "      <td>0.011835</td>\n",
       "      <td>27.511091</td>\n",
       "      <td>-19.0</td>\n",
       "      <td>-0.474959</td>\n",
       "      <td>-21.419580</td>\n",
       "    </tr>\n",
       "    <tr>\n",
       "      <th>3</th>\n",
       "      <td>0.285286</td>\n",
       "      <td>0.012011</td>\n",
       "      <td>28.563021</td>\n",
       "      <td>-16.0</td>\n",
       "      <td>-0.397311</td>\n",
       "      <td>-21.776224</td>\n",
       "    </tr>\n",
       "    <tr>\n",
       "      <th>4</th>\n",
       "      <td>0.273284</td>\n",
       "      <td>0.012086</td>\n",
       "      <td>29.689653</td>\n",
       "      <td>-19.0</td>\n",
       "      <td>-0.569625</td>\n",
       "      <td>-23.405594</td>\n",
       "    </tr>\n",
       "    <tr>\n",
       "      <th>VALENCE/PLEASANTNESS_mean</th>\n",
       "      <td>0.297472</td>\n",
       "      <td>0.012165</td>\n",
       "      <td>29.029312</td>\n",
       "      <td>-18.1</td>\n",
       "      <td>-0.568998</td>\n",
       "      <td>-22.389744</td>\n",
       "    </tr>\n",
       "  </tbody>\n",
       "</table>\n",
       "</div>"
      ],
      "text/plain": [
       "                           fit_time  score_time  test_rmse  test_MedAE  \\\n",
       "0                          0.299402    0.013225  30.052269       -20.5   \n",
       "1                          0.305121    0.011670  29.330525       -16.0   \n",
       "2                          0.324269    0.011835  27.511091       -19.0   \n",
       "3                          0.285286    0.012011  28.563021       -16.0   \n",
       "4                          0.273284    0.012086  29.689653       -19.0   \n",
       "VALENCE/PLEASANTNESS_mean  0.297472    0.012165  29.029312       -18.1   \n",
       "\n",
       "                            test_R2   test_MAE  \n",
       "0                         -0.720881 -23.333333  \n",
       "1                         -0.682216 -22.013986  \n",
       "2                         -0.474959 -21.419580  \n",
       "3                         -0.397311 -21.776224  \n",
       "4                         -0.569625 -23.405594  \n",
       "VALENCE/PLEASANTNESS_mean -0.568998 -22.389744  "
      ]
     },
     "execution_count": 71,
     "metadata": {},
     "output_type": "execute_result"
    }
   ],
   "source": [
    "evaluate_df"
   ]
  },
  {
   "cell_type": "code",
   "execution_count": null,
   "metadata": {},
   "outputs": [],
   "source": []
  }
 ],
 "metadata": {
  "kernelspec": {
   "display_name": "Python 3",
   "language": "python",
   "name": "python3"
  },
  "language_info": {
   "codemirror_mode": {
    "name": "ipython",
    "version": 3
   },
   "file_extension": ".py",
   "mimetype": "text/x-python",
   "name": "python",
   "nbconvert_exporter": "python",
   "pygments_lexer": "ipython3",
   "version": "3.8.3"
  }
 },
 "nbformat": 4,
 "nbformat_minor": 4
}
